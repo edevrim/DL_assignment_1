{
 "cells": [
  {
   "cell_type": "markdown",
   "metadata": {},
   "source": [
    "\n",
    "#    Deep Learning Course 2019\n",
    "######  Lecturer: Assistant prof. Siamak Mehrkanoon\n",
    "####  =====================================================================================================\n",
    "\n",
    "## Assignment-1:\n",
    "\n",
    "### Download the Iris data and explore it, (visualize it, how many classes, instances, features, etc)\n",
    "### Select feature number 0 and 2 and the first 100 samples and do the following analysis: \n",
    "\n",
    "### 1) Implement the logistic regression model that discussed in the class (with and without regularization). Use Gradient descent algorithm for updating the parameters. Plot the results.\n",
    "\n",
    "### 2) Explore the influence of learning rate on the convergence of the model. Tune the learning rate.\n",
    "\n",
    "### 3) Repeat steps 1-4 for different randomly selected features (e.g. 1 and 3 or 2 and 3) and compare the results.\n",
    "\n",
    "### 4) Give the option to the users to select whatever combination of features they want and your code will do the rest.\n",
    "\n",
    "### 5)  Try your model on Monk2 dataset and report the results, (test accuracy, training accuracy, optimal learning rate, loss value). Use the last 20% of the data as test.\n",
    "\n"
   ]
  },
  {
   "cell_type": "code",
   "execution_count": 1,
   "metadata": {},
   "outputs": [
    {
     "data": {
      "text/html": [
       "<div>\n",
       "<style>\n",
       "    .dataframe thead tr:only-child th {\n",
       "        text-align: right;\n",
       "    }\n",
       "\n",
       "    .dataframe thead th {\n",
       "        text-align: left;\n",
       "    }\n",
       "\n",
       "    .dataframe tbody tr th {\n",
       "        vertical-align: top;\n",
       "    }\n",
       "</style>\n",
       "<table border=\"1\" class=\"dataframe\">\n",
       "  <thead>\n",
       "    <tr style=\"text-align: right;\">\n",
       "      <th></th>\n",
       "      <th>0</th>\n",
       "      <th>1</th>\n",
       "      <th>2</th>\n",
       "      <th>3</th>\n",
       "      <th>4</th>\n",
       "    </tr>\n",
       "  </thead>\n",
       "  <tbody>\n",
       "    <tr>\n",
       "      <th>0</th>\n",
       "      <td>5.1</td>\n",
       "      <td>3.5</td>\n",
       "      <td>1.4</td>\n",
       "      <td>0.2</td>\n",
       "      <td>Iris-setosa</td>\n",
       "    </tr>\n",
       "    <tr>\n",
       "      <th>1</th>\n",
       "      <td>4.9</td>\n",
       "      <td>3.0</td>\n",
       "      <td>1.4</td>\n",
       "      <td>0.2</td>\n",
       "      <td>Iris-setosa</td>\n",
       "    </tr>\n",
       "    <tr>\n",
       "      <th>2</th>\n",
       "      <td>4.7</td>\n",
       "      <td>3.2</td>\n",
       "      <td>1.3</td>\n",
       "      <td>0.2</td>\n",
       "      <td>Iris-setosa</td>\n",
       "    </tr>\n",
       "    <tr>\n",
       "      <th>3</th>\n",
       "      <td>4.6</td>\n",
       "      <td>3.1</td>\n",
       "      <td>1.5</td>\n",
       "      <td>0.2</td>\n",
       "      <td>Iris-setosa</td>\n",
       "    </tr>\n",
       "    <tr>\n",
       "      <th>4</th>\n",
       "      <td>5.0</td>\n",
       "      <td>3.6</td>\n",
       "      <td>1.4</td>\n",
       "      <td>0.2</td>\n",
       "      <td>Iris-setosa</td>\n",
       "    </tr>\n",
       "  </tbody>\n",
       "</table>\n",
       "</div>"
      ],
      "text/plain": [
       "     0    1    2    3            4\n",
       "0  5.1  3.5  1.4  0.2  Iris-setosa\n",
       "1  4.9  3.0  1.4  0.2  Iris-setosa\n",
       "2  4.7  3.2  1.3  0.2  Iris-setosa\n",
       "3  4.6  3.1  1.5  0.2  Iris-setosa\n",
       "4  5.0  3.6  1.4  0.2  Iris-setosa"
      ]
     },
     "execution_count": 1,
     "metadata": {},
     "output_type": "execute_result"
    }
   ],
   "source": [
    "import pandas as pd\n",
    "import matplotlib.pyplot as plt\n",
    "import numpy as np\n",
    "plt.style.use('seaborn-deep')\n",
    "\n",
    "iris = pd.read_csv('https://archive.ics.uci.edu/ml/machine-learning-databases/iris/iris.data', header=None)\n",
    "iris.head()"
   ]
  },
  {
   "cell_type": "markdown",
   "metadata": {},
   "source": [
    "### Iris types count; all are equal to 50 and no missing values in columns"
   ]
  },
  {
   "cell_type": "code",
   "execution_count": 2,
   "metadata": {},
   "outputs": [
    {
     "name": "stdout",
     "output_type": "stream",
     "text": [
      "<class 'pandas.core.frame.DataFrame'>\n",
      "RangeIndex: 150 entries, 0 to 149\n",
      "Data columns (total 5 columns):\n",
      "0    150 non-null float64\n",
      "1    150 non-null float64\n",
      "2    150 non-null float64\n",
      "3    150 non-null float64\n",
      "4    150 non-null object\n",
      "dtypes: float64(4), object(1)\n",
      "memory usage: 5.9+ KB\n"
     ]
    },
    {
     "data": {
      "text/plain": [
       "Iris-setosa        50\n",
       "Iris-virginica     50\n",
       "Iris-versicolor    50\n",
       "Name: 4, dtype: int64"
      ]
     },
     "execution_count": 2,
     "metadata": {},
     "output_type": "execute_result"
    }
   ],
   "source": [
    "iris.info()\n",
    "iris[4].value_counts()"
   ]
  },
  {
   "cell_type": "markdown",
   "metadata": {},
   "source": [
    "### Target is created "
   ]
  },
  {
   "cell_type": "code",
   "execution_count": 3,
   "metadata": {},
   "outputs": [
    {
     "data": {
      "text/plain": [
       "2    50\n",
       "1    50\n",
       "0    50\n",
       "Name: target, dtype: int64"
      ]
     },
     "execution_count": 3,
     "metadata": {},
     "output_type": "execute_result"
    }
   ],
   "source": [
    "iris['target'] = iris.apply(lambda x: 0 if x[4] == 'Iris-setosa' else 1 if x[4] == 'Iris-versicolor' else 2, axis=1)\n",
    "iris.head()\n",
    "iris.target.value_counts()"
   ]
  },
  {
   "cell_type": "markdown",
   "metadata": {},
   "source": [
    "### Variable distributions per target"
   ]
  },
  {
   "cell_type": "code",
   "execution_count": 4,
   "metadata": {
    "collapsed": true
   },
   "outputs": [],
   "source": [
    "def var_dist(data1, variable1): \n",
    "    \n",
    "    setosa0 = data1[data1.target == 0]\n",
    "    versicolor0 = data1[data1.target == 1]\n",
    "    virginica0 = data1[data1.target == 2]\n",
    "    \n",
    "    #Variable distributions\n",
    "    iris_all = data1[variable1]\n",
    "    max1 = max(iris_all); \n",
    "    min1 = min(iris_all); \n",
    "    setosa = setosa0[variable1]\n",
    "    versicolor = versicolor0[variable1]\n",
    "    virginica = virginica0[variable1]\n",
    "\n",
    "    bins = np.linspace(min1, max1, 30)\n",
    "\n",
    "    plt.hist([setosa, versicolor, virginica], bins, label=['setosa_'+str(variable1), 'versicolor_'+str(variable1), 'virginica_'+str(variable1)])\n",
    "    plt.legend(loc='upper right')\n",
    "    plt.show()"
   ]
  },
  {
   "cell_type": "code",
   "execution_count": 5,
   "metadata": {},
   "outputs": [
    {
     "data": {
      "image/png": "[encoded data removed]",
      "text/plain": [
       "<matplotlib.figure.Figure at 0x10a1d8d68>"
      ]
     },
     "metadata": {},
     "output_type": "display_data"
    },
    {
     "data": {
      "image/png": "[encoded data removed]",
      "text/plain": [
       "<matplotlib.figure.Figure at 0x10facbda0>"
      ]
     },
     "metadata": {},
     "output_type": "display_data"
    },
    {
     "data": {
      "image/png": "[encoded data removed]",
      "text/plain": [
       "<matplotlib.figure.Figure at 0x10fbb9a90>"
      ]
     },
     "metadata": {},
     "output_type": "display_data"
    },
    {
     "data": {
      "image/png": "[encoded data removed]",
      "text/plain": [
       "<matplotlib.figure.Figure at 0x10fd6a860>"
      ]
     },
     "metadata": {},
     "output_type": "display_data"
    }
   ],
   "source": [
    "var_dist(iris, 0);\n",
    "var_dist(iris, 1);\n",
    "var_dist(iris, 2);\n",
    "var_dist(iris, 3);"
   ]
  },
  {
   "cell_type": "markdown",
   "metadata": {},
   "source": [
    "### Functions for Logistic Regression"
   ]
  },
  {
   "cell_type": "code",
   "execution_count": 5,
   "metadata": {
    "collapsed": true
   },
   "outputs": [],
   "source": [
    "#sigmoid function\n",
    "def sigmoid(z):\n",
    "    return 1/(1 + np.exp(-z))\n",
    "\n",
    "#predicts probabilities based on theta (variable coefficients/betas) \n",
    "def predict(X, theta):\n",
    "    X_2 = X.loc[:, X.columns != 'prob']\n",
    "    z = np.dot(X_2, theta)\n",
    "    h = sigmoid(z)\n",
    "    X['prob'] = h\n",
    "    return X\n",
    "\n",
    "#calculates the loss function wrt log likelihood including L2 regularization\n",
    "def loss_function(X, y, theta, row1, lambda1):\n",
    "    theta_2 = np.sum(theta**2)\n",
    "    return (-y * np.log(X.prob) - (1 - y) * np.log(1 - X.prob)).mean() + (0.5 * lambda1 * theta_2)\n",
    "\n",
    "#computes gradient in order to update theta including regularization\n",
    "def gradient(X, y, theta, row1, lambda1):\n",
    "    X_prob = X.prob\n",
    "    X_2 = X.loc[:, X.columns != 'prob']\n",
    "    return (1 / row1) * np.dot(X_2.T, (X_prob - y)) + (lambda1 * theta)\n",
    "\n",
    "#final classifications from those probabilities\n",
    "def classify(X, threshold):\n",
    "    X_prob = X.prob\n",
    "    X_prediction = X_prob.map(lambda x: 1 if x >= threshold else 0)\n",
    "    return X_prediction\n",
    "\n",
    "#evaluation metrics\n",
    "def metrics(y, X_pred, loss):  \n",
    "    df = pd.concat([y, X_pred], axis = 1)\n",
    "    df1 = df.groupby(['target','prob']).size().unstack()\n",
    "    df1 = df1.fillna(0)\n",
    "    \n",
    "    #predicted vs actual values \n",
    "    TP = df1.iloc[1][1]; \n",
    "    TN = df1.iloc[0][0];\n",
    "    FN = df1.iloc[1][0];\n",
    "    FP = df1.iloc[0][1]; \n",
    "    #how many observations are correctly classified? \n",
    "    accuracy = (TP+TN)/ (TP+TN+FN+FP)\n",
    "    #among the observations predicted as positive, how many of them actual positive? \n",
    "    precision = TP / (TP+FP)\n",
    "    #how many of them are covered of actual positives?\n",
    "    recall = TP / (TP+FN)\n",
    "    \n",
    "    output = {'accuracy': accuracy, 'precision': precision, 'recall': recall, 'loss':loss}  \n",
    "    return output"
   ]
  },
  {
   "cell_type": "markdown",
   "metadata": {},
   "source": [
    "### Logistic Regression model"
   ]
  },
  {
   "cell_type": "code",
   "execution_count": 17,
   "metadata": {
    "collapsed": true
   },
   "outputs": [],
   "source": [
    "def Log_Reg(data1, var_list, num_iter, learning_rate, lambda1, threshold): \n",
    "    #data1 : training data\n",
    "    #var_list: variables will be used in the model\n",
    "    #num_iter: number of steps in gradient descent\n",
    "    #learning_rate: step size\n",
    "    #lambda1: regularization parameter\n",
    "    #threshold: cut-off probability for final binary classification\n",
    "    \n",
    "    y = data1.target; X = data1[var_list]\n",
    "    \n",
    "    #normalization (needed for regularization)\n",
    "    X_norm = (X-X.mean())/X.std()\n",
    "    X_norm['bias'] = 1; #all set as 1 for bias term\n",
    "    X_norm['prob'] = 0; #iteratively updated for final classification\n",
    "    \n",
    "    #number of rows and columns, and initialization of betas\n",
    "    row1, col1 = X_norm.shape\n",
    "    #initialization of random weights between 0 and 1 \n",
    "    theta = np.random.uniform(low=0.0, high=1.0, size=(col1-1)) \n",
    "    \n",
    "    #gradient descent iterations\n",
    "    for i in range(num_iter):\n",
    "        \n",
    "        X_norm = predict(X_norm, theta)\n",
    "        loss = loss_function(X_norm, y, theta, row1, lambda1)\n",
    "        #print('loss: ', loss)\n",
    "        grad = gradient(X_norm, y, theta, row1, lambda1)\n",
    "        theta = theta - (learning_rate * grad)\n",
    "        \n",
    "    #classification with final theta\n",
    "    X_pred = classify(X_norm, threshold)\n",
    "    \n",
    "    #model performance\n",
    "    performance = metrics(y, X_pred, loss)\n",
    "    \n",
    "    return X_pred, theta, performance"
   ]
  },
  {
   "cell_type": "markdown",
   "metadata": {},
   "source": [
    "### Runs"
   ]
  },
  {
   "cell_type": "code",
   "execution_count": 18,
   "metadata": {},
   "outputs": [
    {
     "data": {
      "text/plain": [
       "{'accuracy': 0.83,\n",
       " 'loss': 0.4627142293248049,\n",
       " 'precision': 0.7704918032786885,\n",
       " 'recall': 0.94}"
      ]
     },
     "execution_count": 18,
     "metadata": {},
     "output_type": "execute_result"
    }
   ],
   "source": [
    "iris_2 = iris.head(100) \n",
    "var_list = [0, 2]\n",
    "\n",
    "#Run 1\n",
    "#only 50 iterations with learning rate 0.001 and no regularization\n",
    "X_pred, theta, performance = Log_Reg(iris_2, var_list, 50, 0.001, 0, 0.5);\n",
    "theta\n",
    "performance"
   ]
  },
  {
   "cell_type": "code",
   "execution_count": 19,
   "metadata": {},
   "outputs": [
    {
     "data": {
      "text/plain": [
       "{'accuracy': 0.95,\n",
       " 'loss': 0.28291386942886204,\n",
       " 'precision': 0.9090909090909091,\n",
       " 'recall': 1.0}"
      ]
     },
     "execution_count": 19,
     "metadata": {},
     "output_type": "execute_result"
    }
   ],
   "source": [
    "#Run 2\n",
    "#500 iterations with learning rate 0.001 and no regularization\n",
    "X_pred, theta, performance = Log_Reg(iris_2, var_list, 500, 0.001, 0, 0.5);\n",
    "theta\n",
    "performance"
   ]
  },
  {
   "cell_type": "code",
   "execution_count": 49,
   "metadata": {},
   "outputs": [
    {
     "data": {
      "text/plain": [
       "{'accuracy': 0.97,\n",
       " 'loss': 0.19759840336066933,\n",
       " 'precision': 1.0,\n",
       " 'recall': 0.94}"
      ]
     },
     "execution_count": 49,
     "metadata": {},
     "output_type": "execute_result"
    }
   ],
   "source": [
    "#Run 3\n",
    "#500 iterations with learning rate increased to 0.01 and no regularization \n",
    "#Improved!\n",
    "X_pred, theta, performance = Log_Reg(iris_2, var_list, 500, 0.01, 0, 0.5);\n",
    "theta\n",
    "performance"
   ]
  },
  {
   "cell_type": "code",
   "execution_count": 50,
   "metadata": {},
   "outputs": [
    {
     "data": {
      "text/plain": [
       "{'accuracy': 0.97,\n",
       " 'loss': 0.12737359766448203,\n",
       " 'precision': 1.0,\n",
       " 'recall': 0.94}"
      ]
     },
     "execution_count": 50,
     "metadata": {},
     "output_type": "execute_result"
    }
   ],
   "source": [
    "#Run 4\n",
    "#1000 iterations with learning rate increased to 0.01 and no regularization\n",
    "X_pred, theta, performance = Log_Reg(iris_2, var_list, 1000, 0.01, 0, 0.5);\n",
    "theta\n",
    "performance"
   ]
  },
  {
   "cell_type": "code",
   "execution_count": 51,
   "metadata": {},
   "outputs": [
    {
     "data": {
      "text/plain": [
       "{'accuracy': 0.97,\n",
       " 'loss': 0.1979577135811128,\n",
       " 'precision': 1.0,\n",
       " 'recall': 0.94}"
      ]
     },
     "execution_count": 51,
     "metadata": {},
     "output_type": "execute_result"
    }
   ],
   "source": [
    "#Run 5\n",
    "#100 iterations with learning rate increased to 0.05 and no regularization\n",
    "X_pred, theta, performance = Log_Reg(iris_2, var_list, 100, 0.05, 0, 0.5);\n",
    "theta\n",
    "performance"
   ]
  },
  {
   "cell_type": "code",
   "execution_count": 52,
   "metadata": {},
   "outputs": [
    {
     "data": {
      "text/plain": [
       "{'accuracy': 0.99,\n",
       " 'loss': 0.0693997475586669,\n",
       " 'precision': 1.0,\n",
       " 'recall': 0.98}"
      ]
     },
     "execution_count": 52,
     "metadata": {},
     "output_type": "execute_result"
    }
   ],
   "source": [
    "#Run 6\n",
    "#500 iterations with learning rate increased to 0.05 and no regularization \n",
    "#Improved\n",
    "X_pred, theta, performance = Log_Reg(iris_2, var_list, 500, 0.05, 0, 0.5);\n",
    "theta\n",
    "performance"
   ]
  },
  {
   "cell_type": "code",
   "execution_count": 53,
   "metadata": {},
   "outputs": [
    {
     "data": {
      "text/plain": [
       "{'accuracy': 0.96,\n",
       " 'loss': 0.5657531062474332,\n",
       " 'precision': 1.0,\n",
       " 'recall': 0.92}"
      ]
     },
     "execution_count": 53,
     "metadata": {},
     "output_type": "execute_result"
    }
   ],
   "source": [
    "#Run 7\n",
    "#500 iterations with learning rate increased to 0.05 and regularization term as 1\n",
    "#Worsened (avoid overfitting)\n",
    "X_pred, theta, performance = Log_Reg(iris_2, var_list, 500, 0.05, 1, 0.5);\n",
    "theta\n",
    "performance"
   ]
  },
  {
   "cell_type": "code",
   "execution_count": 54,
   "metadata": {},
   "outputs": [
    {
     "data": {
      "text/plain": [
       "{'accuracy': 0.96,\n",
       " 'loss': 0.6757083209107779,\n",
       " 'precision': 1.0,\n",
       " 'recall': 0.92}"
      ]
     },
     "execution_count": 54,
     "metadata": {},
     "output_type": "execute_result"
    }
   ],
   "source": [
    "#Run 8\n",
    "#500 iterations with learning rate increased to 0.05 and regularization term as 10\n",
    "#Nothing changed compared to above run\n",
    "X_pred, theta, performance = Log_Reg(iris_2, var_list, 500, 0.05, 10, 0.5);\n",
    "theta\n",
    "performance"
   ]
  },
  {
   "cell_type": "markdown",
   "metadata": {},
   "source": [
    "### Different variable combinations"
   ]
  },
  {
   "cell_type": "code",
   "execution_count": 55,
   "metadata": {},
   "outputs": [
    {
     "data": {
      "text/plain": [
       "{'accuracy': 0.99,\n",
       " 'loss': 0.5677039846567683,\n",
       " 'precision': 0.9803921568627451,\n",
       " 'recall': 1.0}"
      ]
     },
     "execution_count": 55,
     "metadata": {},
     "output_type": "execute_result"
    }
   ],
   "source": [
    "var_list = [1, 3]\n",
    "\n",
    "#Run 9\n",
    "#500 iterations with learning rate increased to 0.05 and regularization term as 1 \n",
    "#Better than 0 and 2\n",
    "X_pred, theta, performance = Log_Reg(iris_2, var_list, 500, 0.05, 1, 0.5);\n",
    "theta\n",
    "performance"
   ]
  },
  {
   "cell_type": "code",
   "execution_count": 56,
   "metadata": {},
   "outputs": [
    {
     "data": {
      "text/plain": [
       "{'accuracy': 1.0, 'loss': 0.5373846261036939, 'precision': 1.0, 'recall': 1.0}"
      ]
     },
     "execution_count": 56,
     "metadata": {},
     "output_type": "execute_result"
    }
   ],
   "source": [
    "var_list = [2, 3]\n",
    "\n",
    "#Run 10\n",
    "#500 iterations with learning rate increased to 0.05 and regularization term as 1 \n",
    "#Also, better than 0 and 2\n",
    "#It can be seen that on its distribution graph, variable 3 looks better than 3 in order to diversify versicolor and virginica\n",
    "X_pred, theta, performance = Log_Reg(iris_2, var_list, 500, 0.05, 1, 0.5);\n",
    "theta\n",
    "performance"
   ]
  },
  {
   "cell_type": "markdown",
   "metadata": {},
   "source": [
    "### Monk2 dataset "
   ]
  },
  {
   "cell_type": "code",
   "execution_count": 57,
   "metadata": {
    "collapsed": true
   },
   "outputs": [],
   "source": [
    "from mat4py import loadmat\n",
    "monk2 = loadmat('monk2.mat')\n",
    "         \n",
    "monk22 = pd.DataFrame(monk2)       \n",
    "\n",
    "monk222 = pd.DataFrame(monk22.monk2.tolist(), columns=['var1', 'var2', 'var3', 'var4', 'var5', 'var6', 'target'])  \n",
    "\n",
    "row1, col1 = monk222.shape         \n",
    "\n",
    "head1 = round(row1*0.8)\n",
    "    \n",
    "monk_train = monk222.head(head1)\n",
    "\n",
    "monk_test = monk222.tail(row1 - head1).reset_index(drop=True)"
   ]
  },
  {
   "cell_type": "code",
   "execution_count": 58,
   "metadata": {},
   "outputs": [
    {
     "data": {
      "text/html": [
       "<div>\n",
       "<style>\n",
       "    .dataframe thead tr:only-child th {\n",
       "        text-align: right;\n",
       "    }\n",
       "\n",
       "    .dataframe thead th {\n",
       "        text-align: left;\n",
       "    }\n",
       "\n",
       "    .dataframe tbody tr th {\n",
       "        vertical-align: top;\n",
       "    }\n",
       "</style>\n",
       "<table border=\"1\" class=\"dataframe\">\n",
       "  <thead>\n",
       "    <tr style=\"text-align: right;\">\n",
       "      <th></th>\n",
       "      <th>var1</th>\n",
       "      <th>var2</th>\n",
       "      <th>var3</th>\n",
       "      <th>var4</th>\n",
       "      <th>var5</th>\n",
       "      <th>var6</th>\n",
       "      <th>target</th>\n",
       "    </tr>\n",
       "  </thead>\n",
       "  <tbody>\n",
       "    <tr>\n",
       "      <th>0</th>\n",
       "      <td>3</td>\n",
       "      <td>3</td>\n",
       "      <td>1</td>\n",
       "      <td>1</td>\n",
       "      <td>3</td>\n",
       "      <td>2</td>\n",
       "      <td>1</td>\n",
       "    </tr>\n",
       "    <tr>\n",
       "      <th>1</th>\n",
       "      <td>3</td>\n",
       "      <td>3</td>\n",
       "      <td>1</td>\n",
       "      <td>1</td>\n",
       "      <td>4</td>\n",
       "      <td>1</td>\n",
       "      <td>0</td>\n",
       "    </tr>\n",
       "    <tr>\n",
       "      <th>2</th>\n",
       "      <td>3</td>\n",
       "      <td>3</td>\n",
       "      <td>1</td>\n",
       "      <td>2</td>\n",
       "      <td>1</td>\n",
       "      <td>1</td>\n",
       "      <td>0</td>\n",
       "    </tr>\n",
       "    <tr>\n",
       "      <th>3</th>\n",
       "      <td>3</td>\n",
       "      <td>3</td>\n",
       "      <td>1</td>\n",
       "      <td>2</td>\n",
       "      <td>1</td>\n",
       "      <td>2</td>\n",
       "      <td>0</td>\n",
       "    </tr>\n",
       "    <tr>\n",
       "      <th>4</th>\n",
       "      <td>3</td>\n",
       "      <td>3</td>\n",
       "      <td>1</td>\n",
       "      <td>2</td>\n",
       "      <td>2</td>\n",
       "      <td>1</td>\n",
       "      <td>0</td>\n",
       "    </tr>\n",
       "  </tbody>\n",
       "</table>\n",
       "</div>"
      ],
      "text/plain": [
       "   var1  var2  var3  var4  var5  var6  target\n",
       "0     3     3     1     1     3     2       1\n",
       "1     3     3     1     1     4     1       0\n",
       "2     3     3     1     2     1     1       0\n",
       "3     3     3     1     2     1     2       0\n",
       "4     3     3     1     2     2     1       0"
      ]
     },
     "execution_count": 58,
     "metadata": {},
     "output_type": "execute_result"
    }
   ],
   "source": [
    "monk222.head()\n",
    "monk_test.head()"
   ]
  },
  {
   "cell_type": "code",
   "execution_count": 59,
   "metadata": {},
   "outputs": [
    {
     "data": {
      "text/plain": [
       "1    228\n",
       "0    204\n",
       "Name: target, dtype: int64"
      ]
     },
     "execution_count": 59,
     "metadata": {},
     "output_type": "execute_result"
    }
   ],
   "source": [
    "monk222.target.value_counts()"
   ]
  },
  {
   "cell_type": "code",
   "execution_count": 60,
   "metadata": {},
   "outputs": [
    {
     "data": {
      "text/plain": [
       "1    202\n",
       "0    144\n",
       "Name: target, dtype: int64"
      ]
     },
     "execution_count": 60,
     "metadata": {},
     "output_type": "execute_result"
    }
   ],
   "source": [
    "monk_train.target.value_counts()"
   ]
  },
  {
   "cell_type": "code",
   "execution_count": 61,
   "metadata": {},
   "outputs": [
    {
     "data": {
      "text/plain": [
       "0    60\n",
       "1    26\n",
       "Name: target, dtype: int64"
      ]
     },
     "execution_count": 61,
     "metadata": {},
     "output_type": "execute_result"
    }
   ],
   "source": [
    "monk_test.target.value_counts()\n",
    "#Target values are not well stratified in train and test set"
   ]
  },
  {
   "cell_type": "markdown",
   "metadata": {},
   "source": [
    "### Evaluation on test data"
   ]
  },
  {
   "cell_type": "code",
   "execution_count": 74,
   "metadata": {
    "collapsed": true
   },
   "outputs": [],
   "source": [
    "def evaluate_test(test_data, theta, var_list, threshold, lambda1):\n",
    "    \n",
    "    y = test_data.target; X = test_data[var_list]\n",
    "    row1= X.shape[0]\n",
    "    \n",
    "    #normalization (needed for regularization)\n",
    "    X_norm = (X-X.mean())/X.std()\n",
    "    X_norm['bias'] = 1;\n",
    "    X_norm['prob'] = 0;\n",
    "    \n",
    "    X_prob = predict(X_norm, theta)\n",
    "    loss = loss_function(X_prob, y, theta, row1, lambda1) \n",
    "    test_prediction = classify(X_prob, threshold)\n",
    "    test_output = metrics(y, test_prediction, loss)\n",
    "    \n",
    "    return test_prediction, test_output"
   ]
  },
  {
   "cell_type": "markdown",
   "metadata": {},
   "source": [
    "### Training"
   ]
  },
  {
   "cell_type": "code",
   "execution_count": 75,
   "metadata": {},
   "outputs": [
    {
     "data": {
      "text/plain": [
       "{'accuracy': 0.8005780346820809,\n",
       " 'loss': 0.46070337530364114,\n",
       " 'precision': 0.821256038647343,\n",
       " 'recall': 0.8415841584158416}"
      ]
     },
     "execution_count": 75,
     "metadata": {},
     "output_type": "execute_result"
    }
   ],
   "source": [
    "var_list = ['var1', 'var2', 'var3', 'var4', 'var5', 'var6']  \n",
    "\n",
    "#Run 1\n",
    "#No regularization \n",
    "X_pred, theta, performance = Log_Reg(monk_train, var_list, 500, 0.01, 0, 0.5)\n",
    "performance\n",
    "#Not very good"
   ]
  },
  {
   "cell_type": "code",
   "execution_count": 76,
   "metadata": {},
   "outputs": [
    {
     "data": {
      "text/plain": [
       "{'accuracy': 0.6511627906976745,\n",
       " 'loss': 0.5794060093775208,\n",
       " 'precision': 0.46,\n",
       " 'recall': 0.8846153846153846}"
      ]
     },
     "execution_count": 76,
     "metadata": {},
     "output_type": "execute_result"
    }
   ],
   "source": [
    "#test performance\n",
    "#Poorer!\n",
    "test_prediction, test_output = evaluate_test(monk_test, theta, var_list, 0.5, 0)\n",
    "test_output"
   ]
  },
  {
   "cell_type": "code",
   "execution_count": 79,
   "metadata": {},
   "outputs": [
    {
     "data": {
      "text/plain": [
       "{'accuracy': 0.8092485549132948,\n",
       " 'loss': 0.6452341961668749,\n",
       " 'precision': 0.8333333333333334,\n",
       " 'recall': 0.8415841584158416}"
      ]
     },
     "execution_count": 79,
     "metadata": {},
     "output_type": "execute_result"
    }
   ],
   "source": [
    "#Run 2\n",
    "#number of iteration is increased and regularization term is set as 1\n",
    "X_pred, theta, performance = Log_Reg(monk_train, var_list, 5000, 0.01, 1, 0.5)\n",
    "performance"
   ]
  },
  {
   "cell_type": "code",
   "execution_count": 80,
   "metadata": {},
   "outputs": [
    {
     "data": {
      "text/plain": [
       "{'accuracy': 0.6511627906976745,\n",
       " 'loss': 0.6822382193524424,\n",
       " 'precision': 0.46,\n",
       " 'recall': 0.8846153846153846}"
      ]
     },
     "execution_count": 80,
     "metadata": {},
     "output_type": "execute_result"
    }
   ],
   "source": [
    "#test performance\n",
    "#Nothing changed\n",
    "test_prediction, test_output = evaluate_test(monk_test, theta, var_list, 0.5, 1)\n",
    "test_output"
   ]
  },
  {
   "cell_type": "code",
   "execution_count": 81,
   "metadata": {},
   "outputs": [
    {
     "data": {
      "text/plain": [
       "{'accuracy': 0.7398843930635838,\n",
       " 'loss': 0.38440971294989135,\n",
       " 'precision': 0.7641509433962265,\n",
       " 'recall': 0.801980198019802}"
      ]
     },
     "execution_count": 81,
     "metadata": {},
     "output_type": "execute_result"
    }
   ],
   "source": [
    "#Run 3\n",
    "#learning rate is increased and no regularization\n",
    "X_pred, theta, performance = Log_Reg(monk_train, var_list, 1000, 0.05, 0, 0.5)\n",
    "performance"
   ]
  },
  {
   "cell_type": "code",
   "execution_count": 82,
   "metadata": {},
   "outputs": [
    {
     "data": {
      "text/plain": [
       "array([ 0.19617738, -1.66361971,  0.02029424, -0.15409807, -1.65338494,\n",
       "       -0.04356354,  0.61466648])"
      ]
     },
     "execution_count": 82,
     "metadata": {},
     "output_type": "execute_result"
    }
   ],
   "source": [
    "theta"
   ]
  },
  {
   "cell_type": "code",
   "execution_count": 83,
   "metadata": {},
   "outputs": [
    {
     "data": {
      "text/plain": [
       "{'accuracy': 0.6511627906976745,\n",
       " 'loss': 0.6330155137860678,\n",
       " 'precision': 0.46,\n",
       " 'recall': 0.8846153846153846}"
      ]
     },
     "execution_count": 83,
     "metadata": {},
     "output_type": "execute_result"
    }
   ],
   "source": [
    "#test performance\n",
    "#Nothing changed\n",
    "test_prediction, test_output = evaluate_test(monk_test, theta, var_list, 0.5, 0)\n",
    "test_output"
   ]
  },
  {
   "cell_type": "code",
   "execution_count": 84,
   "metadata": {},
   "outputs": [
    {
     "data": {
      "text/plain": [
       "{'accuracy': 0.7369942196531792,\n",
       " 'loss': 0.383717093990302,\n",
       " 'precision': 0.7630331753554502,\n",
       " 'recall': 0.7970297029702971}"
      ]
     },
     "execution_count": 84,
     "metadata": {},
     "output_type": "execute_result"
    }
   ],
   "source": [
    "#Run 4\n",
    "#learning rate is much more increased and no regularization\n",
    "#Nothing is getting better\n",
    "X_pred, theta, performance = Log_Reg(monk_train, var_list, 5000, 0.1, 0, 0.5)\n",
    "performance"
   ]
  },
  {
   "cell_type": "code",
   "execution_count": 85,
   "metadata": {},
   "outputs": [
    {
     "data": {
      "text/plain": [
       "array([ 0.19447972, -1.79293981,  0.02182256, -0.16848528, -1.78528886,\n",
       "       -0.0468245 ,  0.6635716 ])"
      ]
     },
     "execution_count": 85,
     "metadata": {},
     "output_type": "execute_result"
    }
   ],
   "source": [
    "theta"
   ]
  },
  {
   "cell_type": "code",
   "execution_count": 86,
   "metadata": {},
   "outputs": [
    {
     "data": {
      "text/plain": [
       "{'accuracy': 0.6511627906976745,\n",
       " 'loss': 0.6509081037779897,\n",
       " 'precision': 0.46,\n",
       " 'recall': 0.8846153846153846}"
      ]
     },
     "execution_count": 86,
     "metadata": {},
     "output_type": "execute_result"
    }
   ],
   "source": [
    "#test performance\n",
    "#Nothing changed\n",
    "test_prediction, test_output = evaluate_test(monk_test, theta, var_list, 0.5, 0)\n",
    "test_output"
   ]
  }
 ],
 "metadata": {
  "kernelspec": {
   "display_name": "Python 3",
   "language": "python",
   "name": "python3"
  },
  "language_info": {
   "codemirror_mode": {
    "name": "ipython",
    "version": 3
   },
   "file_extension": ".py",
   "mimetype": "text/x-python",
   "name": "python",
   "nbconvert_exporter": "python",
   "pygments_lexer": "ipython3",
   "version": "3.6.8"
  }
 },
 "nbformat": 4,
 "nbformat_minor": 2
}
